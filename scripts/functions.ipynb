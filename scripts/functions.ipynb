{
 "cells": [
  {
   "cell_type": "markdown",
   "id": "dae4c8d7-25ea-4b48-b4b5-1f799870b6a5",
   "metadata": {},
   "source": [
    "# Import libraries"
   ]
  },
  {
   "cell_type": "code",
   "execution_count": 1,
   "id": "d06d4113-d155-4f04-953e-75b084925927",
   "metadata": {},
   "outputs": [],
   "source": [
    "import pandas as pd\n",
    "from pathlib import Path"
   ]
  },
  {
   "cell_type": "markdown",
   "id": "ded2ace8-c043-4b61-bd67-3948f29ba41d",
   "metadata": {},
   "source": [
    "# Configure files and directories\n",
    "\n",
    "We assume a top-level project directory containing the following subdirectories:\n",
    "\n",
    "- scripts\n",
    "- data\n",
    "- data/processed\n",
    "   \n",
    "This Python script resides in the /scripts subdirectory"
   ]
  },
  {
   "cell_type": "code",
   "execution_count": 2,
   "id": "d495d396-8a1c-4d35-a527-93585c1ad08f",
   "metadata": {},
   "outputs": [],
   "source": [
    "# Define directory locations\n",
    "dir_scripts = Path()\n",
    "dir_raw = Path(\"../data\")\n",
    "dir_processed = Path(\"../data/processed\")\n",
    "\n",
    "# Check directories\n",
    "assert dir_scripts.cwd().stem == \"scripts\", \\\n",
    "    \"Execute this script from the /scripts directory\"\n",
    "\n",
    "assert dir_raw.exists(), \\\n",
    "    \"/data directory does not exist\"\n",
    "\n",
    "if not dir_processed.exists():\n",
    "    dir_processed.mkdir()\n",
    "    print(\"Created\", dir_processed.absolute())"
   ]
  },
  {
   "cell_type": "markdown",
   "id": "08460c15-6c52-40e7-ae0c-40c8bd7c05e8",
   "metadata": {},
   "source": [
    "# Define functions"
   ]
  },
  {
   "cell_type": "code",
   "execution_count": 3,
   "id": "80f95985-a53a-488b-a3cf-cd584bbd9a80",
   "metadata": {},
   "outputs": [],
   "source": [
    "def norm_data(filename, index_col=None):\n",
    "    \"\"\"Calculate the mean Z score for each country over time and append to the data frame as a new column.\"\"\"\n",
    "\n",
    "    # Import the data\n",
    "    data = pd.read_csv(filename, index_col=index_col)\n",
    "\n",
    "    # Calculate individual Z scores\n",
    "    z = (data - data.values.mean()) / data.values.std(ddof=1)\n",
    "\n",
    "    # Mean Z score for each country\n",
    "    mean_z = z.mean(axis=1)    # alternatively, `z.T.mean()`\n",
    "\n",
    "    # Add new column to data frame\n",
    "    data[\"mean_z\"] = mean_z\n",
    "\n",
    "    return data"
   ]
  },
  {
   "cell_type": "markdown",
   "id": "4177b9a3-9f0c-41ac-ae61-0ac0629b695c",
   "metadata": {},
   "source": [
    "# Process data"
   ]
  },
  {
   "cell_type": "code",
   "execution_count": 4,
   "id": "fb84706c-3947-4682-afbe-100ebd11e8a2",
   "metadata": {},
   "outputs": [],
   "source": [
    "filename = dir_raw.joinpath(\"gapminder_gdp_europe.csv\")\n",
    "\n",
    "if filename.is_file():\n",
    "    df = norm_data(filename, index_col=\"country\")\n",
    "    df.to_csv(dir_processed.joinpath(\"\".join([filename.stem, \"_processed\", \".csv\"])))"
   ]
  }
 ],
 "metadata": {
  "kernelspec": {
   "display_name": "Python 3 (ipykernel)",
   "language": "python",
   "name": "python3"
  },
  "language_info": {
   "codemirror_mode": {
    "name": "ipython",
    "version": 3
   },
   "file_extension": ".py",
   "mimetype": "text/x-python",
   "name": "python",
   "nbconvert_exporter": "python",
   "pygments_lexer": "ipython3",
   "version": "3.11.7"
  }
 },
 "nbformat": 4,
 "nbformat_minor": 5
}
