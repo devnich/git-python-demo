{
 "cells": [
  {
   "cell_type": "code",
   "execution_count": 1,
   "id": "34395fd4-e0ef-4755-be9e-68eb1a56acec",
   "metadata": {},
   "outputs": [
    {
     "name": "stdout",
     "output_type": "stream",
     "text": [
      "hello\n"
     ]
    }
   ],
   "source": [
    "print(\"hello\")"
   ]
  },
  {
   "cell_type": "code",
   "execution_count": 2,
   "id": "181cb577-c5b8-4f5c-9b58-e1ad612c6fed",
   "metadata": {},
   "outputs": [
    {
     "name": "stdout",
     "output_type": "stream",
     "text": [
      "Goodbye cruel world\n"
     ]
    }
   ],
   "source": [
    "print(\"Goodbye cruel world\")"
   ]
  },
  {
   "cell_type": "code",
   "execution_count": null,
   "id": "63e607fc-b830-4eb2-8cc4-496c27f7eacf",
   "metadata": {},
   "outputs": [],
   "source": []
  }
 ],
 "metadata": {
  "kernelspec": {
   "display_name": "Python 3 (ipykernel)",
   "language": "python",
   "name": "python3"
  },
  "language_info": {
   "codemirror_mode": {
    "name": "ipython",
    "version": 3
   },
   "file_extension": ".py",
   "mimetype": "text/x-python",
   "name": "python",
   "nbconvert_exporter": "python",
   "pygments_lexer": "ipython3",
   "version": "3.11.7"
  }
 },
 "nbformat": 4,
 "nbformat_minor": 5
}
